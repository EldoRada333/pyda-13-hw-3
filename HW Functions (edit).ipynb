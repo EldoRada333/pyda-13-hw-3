{
 "cells": [
  {
   "cell_type": "code",
   "execution_count": 126,
   "metadata": {},
   "outputs": [
    {
     "name": "stdout",
     "output_type": "stream",
     "text": [
      "Введите команду: p\n",
      "Введите номер документа: 11-2\n",
      "{'type': 'invoice', 'number': '11-2', 'name': 'Геннадий Покемонов'}\n"
     ]
    }
   ],
   "source": [
    "documents = [\n",
    "    {'type': 'passport', 'number': '2207 876234', 'name': 'Василий Гупкин'},\n",
    "    {'type': 'invoice', 'number': '11-2', 'name': 'Геннадий Покемонов'},\n",
    "    {'type': 'insurance', 'number': '10006', 'name': 'Аристарх Павлов'}\n",
    "]\n",
    "\n",
    "directories = {\n",
    "    '1': ['2207 876234', '11-2'], \n",
    "    '2': ['10006'], \n",
    "    '3': []\n",
    "}\n",
    "\n",
    "def get_person(number):\n",
    "    ort = list(filter(lambda e: e['number'] == number, documents))\n",
    "    return ort[0] if ort else 'Такого документа не существует'\n",
    "\n",
    "def get_directory(number):\n",
    "    res = list(filter(lambda e: number in e[1], directories.items()))\n",
    "    return res[0] if res else 'Такой полки не существует'\n",
    "\n",
    "def add_shelf(num_key):\n",
    "    if num_key in directories:\n",
    "        return 'Такая полка уже существует'\n",
    "    else:\n",
    "        directories[num_key] = []\n",
    "        return 'Полка добавлена. Текущий список: ' + ', '.join(directories.keys())\n",
    "        \n",
    "def rem_shelf(num_key):\n",
    "    if num_key not in directories:\n",
    "        return 'Такой полки не существует'\n",
    "    elif not directories[num_key]: \n",
    "        del directories[num_key]\n",
    "        return 'Полка удалена. Текущий список: ' + ', '.join(directories.keys())\n",
    "    elif directories[num_key]:\n",
    "        return 'На полке ещё есть документы'    \n",
    "      \n",
    "p = input('Введите команду: ')\n",
    "if p == 'p':\n",
    "    print(get_person(input('Введите номер документа: ')))\n",
    "\n",
    "if p == 's':\n",
    "    print(get_directory(input('Введите номер документа: ')))\n",
    "\n",
    "if p == 'l':\n",
    "    for person in documents:\n",
    "        print(person, f\"Полка хранения: {get_directory(person['number'])[0]}\")\n",
    "\n",
    "if p == 'as':\n",
    "    print(add_shelf(input('Введите номер полки: ')))\n",
    "    \n",
    "if p == 'ds':\n",
    "    print(rem_shelf(input('Введите номер полки: ')))"
   ]
  },
  {
   "cell_type": "code",
   "execution_count": null,
   "metadata": {},
   "outputs": [],
   "source": []
  }
 ],
 "metadata": {
  "kernelspec": {
   "display_name": "Python 3",
   "language": "python",
   "name": "python3"
  },
  "language_info": {
   "codemirror_mode": {
    "name": "ipython",
    "version": 3
   },
   "file_extension": ".py",
   "mimetype": "text/x-python",
   "name": "python",
   "nbconvert_exporter": "python",
   "pygments_lexer": "ipython3",
   "version": "3.8.3"
  }
 },
 "nbformat": 4,
 "nbformat_minor": 4
}
