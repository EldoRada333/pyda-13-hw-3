{
 "cells": [
  {
   "cell_type": "code",
   "execution_count": 11,
   "metadata": {},
   "outputs": [
    {
     "name": "stdout",
     "output_type": "stream",
     "text": [
      "Введите команду: ds\n",
      "Введите номер полки: 3\n",
      "Полка удалена. Текущий список:  1, 2\n"
     ]
    }
   ],
   "source": [
    "documents = [\n",
    "    {'type': 'passport', 'number': '2207 876234', 'name': 'Василий Гупкин'},\n",
    "    {'type': 'invoice', 'number': '11-2', 'name': 'Геннадий Покемонов'},\n",
    "    {'type': 'insurance', 'number': '10006', 'name': 'Аристарх Павлов'}\n",
    "]\n",
    "\n",
    "directories = {\n",
    "    '1': ['2207 876234', '11-2'], \n",
    "    '2': ['10006'], \n",
    "    '3': []\n",
    "}\n",
    "\n",
    "def get_person(number):\n",
    "    return list(filter(lambda e: e['number'] == number, documents))[0]\n",
    "\n",
    "def get_directory(number):\n",
    "    return list(filter(lambda e: number in e[1], directories.items()))[0]\n",
    "\n",
    "p = input('Введите команду: ')\n",
    "if p == 'p':\n",
    "    print(get_person(input('Введите номер документа: '))['name'])\n",
    "\n",
    "if p == 's':\n",
    "    print(get_directory(input('Введите номер документа: '))[0])\n",
    "\n",
    "if p == 'l':\n",
    "    for person in documents:\n",
    "        print(person, f\"Полка хранения: {get_directory(person['number'])[0]}\")\n",
    "\n",
    "num_key = input('Введите номер полки: ')\n",
    "if p == 'as':\n",
    "    directories[num_key] = []\n",
    "    print('Полка добавлена. Текущий список: ', ', '.join(directories.keys()))\n",
    "    \n",
    "if p == 'ds':\n",
    "    del(directories[num_key])\n",
    "    print('Полка удалена. Текущий список: ',', '.join(directories.keys()))"
   ]
  },
  {
   "cell_type": "code",
   "execution_count": null,
   "metadata": {},
   "outputs": [],
   "source": []
  }
 ],
 "metadata": {
  "kernelspec": {
   "display_name": "Python 3",
   "language": "python",
   "name": "python3"
  },
  "language_info": {
   "codemirror_mode": {
    "name": "ipython",
    "version": 3
   },
   "file_extension": ".py",
   "mimetype": "text/x-python",
   "name": "python",
   "nbconvert_exporter": "python",
   "pygments_lexer": "ipython3",
   "version": "3.8.3"
  }
 },
 "nbformat": 4,
 "nbformat_minor": 4
}
