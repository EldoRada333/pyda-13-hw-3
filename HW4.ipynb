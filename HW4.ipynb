{
 "cells": [
  {
   "cell_type": "code",
   "execution_count": 395,
   "metadata": {},
   "outputs": [
    {
     "name": "stdout",
     "output_type": "stream",
     "text": [
      "{98, 35, 15, 213, 54, 119}\n"
     ]
    }
   ],
   "source": [
    "ids = {'user1': [213, 213, 213, 15, 213], \n",
    "'user2': [54, 54, 119, 119, 119], \n",
    "'user3': [213, 98, 98, 35]}\n",
    "\n",
    "lst = ids.values()\n",
    "newlist = []\n",
    "for i in lst:\n",
    "    for d in i:\n",
    "        newlist.append(d)\n",
    "\n",
    "print(set(newlist))"
   ]
  },
  {
   "cell_type": "code",
   "execution_count": 421,
   "metadata": {},
   "outputs": [
    {
     "name": "stdout",
     "output_type": "stream",
     "text": [
      "Поисковых запросов, содержащих 2 слов(а): 14.29 %\n",
      "Поисковых запросов, содержащих 3 слов(а): 85.71 %\n"
     ]
    }
   ],
   "source": [
    "queries = [\n",
    "'смотреть сериалы онлайн',\n",
    "'новости спорта',\n",
    "'афиша кино',\n",
    "'курс доллара',\n",
    "'сериалы этим летом',\n",
    "'курс по питону',\n",
    "'сериалы про спорт',\n",
    "]\n",
    "\n",
    "for query in queries:\n",
    "    length = len(query.split())\n",
    "    x = round(((queries.count(query) / len(queries)) * 100), 2)\n",
    "    if length == 2:\n",
    "        y = x\n",
    "    elif length == 3:\n",
    "        z = round((100 - y), 2) \n",
    "\n",
    "print('Поисковых запросов, содержащих 2 слов(а):', y,'%')\n",
    "print('Поисковых запросов, содержащих 3 слов(а):', z,'%')\n",
    "\n",
    "# y = x указано просто для работы алгоритма. У меня получается посчитать только процент вхождений\n",
    "# по каждому ключу. Но я не понимаю, как узнать сумму ключей с тем или иным числом слов.\n",
    "# Подскажите, что я не так делаю или не замечаю."
   ]
  },
  {
   "cell_type": "code",
   "execution_count": 415,
   "metadata": {},
   "outputs": [
    {
     "name": "stdout",
     "output_type": "stream",
     "text": [
      "vk {'revenue': 103, 'cost': 98, 'ROI': 5.1}\n",
      "yandex {'revenue': 179, 'cost': 153, 'ROI': 16.99}\n",
      "facebook {'revenue': 103, 'cost': 110, 'ROI': -6.36}\n",
      "adwords {'revenue': 35, 'cost': 34, 'ROI': 2.94}\n",
      "twitter {'revenue': 11, 'cost': 24, 'ROI': -54.17}\n"
     ]
    }
   ],
   "source": [
    "results = {\n",
    "'vk': {'revenue': 103, 'cost': 98},\n",
    "'yandex': {'revenue': 179, 'cost': 153},\n",
    "'facebook': {'revenue': 103, 'cost': 110},\n",
    "'adwords': {'revenue': 35, 'cost': 34},\n",
    "'twitter': {'revenue': 11, 'cost': 24},\n",
    "}\n",
    "\n",
    "for social, info in results.items():\n",
    "    info['ROI'] = round((((info['revenue'] / info['cost']) - 1) * 100), 2)\n",
    "    print(social, info)"
   ]
  },
  {
   "cell_type": "code",
   "execution_count": 418,
   "metadata": {},
   "outputs": [
    {
     "name": "stdout",
     "output_type": "stream",
     "text": [
      "Максимальный объём продаж на рекламном канале: {'vk'}\n"
     ]
    }
   ],
   "source": [
    "stats = {'facebook': 55, 'yandex': 115, 'vk': 120, 'google': 99, 'email': 42, 'ok': 98}\n",
    "\n",
    "max_val = max(stats.values())\n",
    "final_var = {k for k, v in stats.items() if v == max_val}\n",
    "print('Максимальный объём продаж на рекламном канале:', final_var)"
   ]
  },
  {
   "cell_type": "code",
   "execution_count": null,
   "metadata": {},
   "outputs": [],
   "source": []
  }
 ],
 "metadata": {
  "kernelspec": {
   "display_name": "Python 3",
   "language": "python",
   "name": "python3"
  },
  "language_info": {
   "codemirror_mode": {
    "name": "ipython",
    "version": 3
   },
   "file_extension": ".py",
   "mimetype": "text/x-python",
   "name": "python",
   "nbconvert_exporter": "python",
   "pygments_lexer": "ipython3",
   "version": "3.8.3"
  }
 },
 "nbformat": 4,
 "nbformat_minor": 4
}
