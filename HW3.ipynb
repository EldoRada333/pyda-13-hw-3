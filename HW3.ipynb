{
 "cells": [
  {
   "cell_type": "code",
   "execution_count": 1,
   "metadata": {},
   "outputs": [
    {
     "name": "stdout",
     "output_type": "stream",
     "text": [
      "1\n",
      "2\n",
      "3\n",
      "4\n",
      "0\n",
      "10\n"
     ]
    }
   ],
   "source": [
    "# задание 2\n",
    "\n",
    "s = 0\n",
    "x = int(input())\n",
    "\n",
    "while x != 0:\n",
    "    s += x\n",
    "    x = int(input())\n",
    "    if x == 0:\n",
    "        break\n",
    "print(s)"
   ]
  },
  {
   "cell_type": "code",
   "execution_count": 2,
   "metadata": {},
   "outputs": [
    {
     "name": "stdout",
     "output_type": "stream",
     "text": [
      "Arthur и Masha\n",
      "Eric и Olya\n",
      "Kelvin и Sabrina\n",
      "Mario и Sonya\n",
      "Peter и Tanya\n",
      "Tom и Valya\n"
     ]
    }
   ],
   "source": [
    "# задание 3\n",
    "\n",
    "boys = ['Arthur','Peter','Eric','Mario','Tom','Kelvin']\n",
    "girls = ['Sabrina','Olya','Masha','Valya','Tanya','Sonya']\n",
    "\n",
    "if len(boys) == len(girls):\n",
    "    boys.sort()\n",
    "    girls.sort()\n",
    "    for boy,girl in zip(boys,girls):\n",
    "        i = 0\n",
    "        print(boy,'и',girl)\n",
    "        i += 1\n",
    "else: \n",
    "    print('Внимание! Кто-то может остаться без пары')"
   ]
  },
  {
   "cell_type": "code",
   "execution_count": 3,
   "metadata": {},
   "outputs": [
    {
     "name": "stdout",
     "output_type": "stream",
     "text": [
      "Введите слово masha\n",
      "s\n"
     ]
    }
   ],
   "source": [
    "# задание 1\n",
    "\n",
    "word = input('Введите слово ')\n",
    "\n",
    "l = len(word)\n",
    "x = l // 2\n",
    "\n",
    "if l % 2 == 0:\n",
    "    print(word[int(x - 1):int(x + 1)])\n",
    "else:\n",
    "    print(word[int(x)])"
   ]
  },
  {
   "cell_type": "code",
   "execution_count": 12,
   "metadata": {},
   "outputs": [
    {
     "name": "stdout",
     "output_type": "stream",
     "text": [
      "Введите числа 1 2 3 4 5 1 2 \n",
      "Результат\n",
      "1 2\n"
     ]
    }
   ],
   "source": [
    "# задание 6\n",
    "\n",
    "my_string = input('Введите числа ')\n",
    "my_list = my_string.split(' ')\n",
    "res = []\n",
    "\n",
    "for number in my_list:\n",
    "    if my_list.count(number) > 1 and number not in res:\n",
    "        res.append(number)\n",
    "        \n",
    "print('Результат')\n",
    "print(' '.join(res))"
   ]
  },
  {
   "cell_type": "code",
   "execution_count": 42,
   "metadata": {},
   "outputs": [
    {
     "name": "stdout",
     "output_type": "stream",
     "text": [
      "Thailand - 23.86 C\n",
      "Germany - 13.8 C\n",
      "Russia - 3.71 C\n",
      "Poland - 12.0 C\n"
     ]
    }
   ],
   "source": [
    "# задание 4\n",
    "\n",
    "countries_temperature = [\n",
    "    [\"Thailand\", [75.2, 77, 78.8, 73.4, 68, 75.2, 77]],\n",
    "    [\"Germany\", [57.2, 55.4, 59, 59, 53.6]],\n",
    "    [\"Russia\", [35.6, 37.4, 39.2, 41, 42.8, 39.2, 35.6]],\n",
    "    [\"Poland\", [50, 50, 53.6, 57.2, 55.4, 55.4]]\n",
    "]\n",
    "\n",
    "for country in countries_temperature:\n",
    "    country_name = country[0]\n",
    "    country_temperature = country[1]\n",
    "    average_tmp_f = sum(country_temperature) / len(country_temperature)\n",
    "    average_to_c = round((average_tmp_f - 32) * 5/9, 2)\n",
    "    print(country_name, '-', average_to_c, 'C')"
   ]
  },
  {
   "cell_type": "code",
   "execution_count": null,
   "metadata": {},
   "outputs": [],
   "source": []
  }
 ],
 "metadata": {
  "kernelspec": {
   "display_name": "Python 3",
   "language": "python",
   "name": "python3"
  },
  "language_info": {
   "codemirror_mode": {
    "name": "ipython",
    "version": 3
   },
   "file_extension": ".py",
   "mimetype": "text/x-python",
   "name": "python",
   "nbconvert_exporter": "python",
   "pygments_lexer": "ipython3",
   "version": "3.8.3"
  }
 },
 "nbformat": 4,
 "nbformat_minor": 4
}
